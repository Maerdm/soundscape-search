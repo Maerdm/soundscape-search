{
 "cells": [
  {
   "cell_type": "markdown",
   "metadata": {},
   "source": [
    "### Database\n",
    "\n",
    "- in this notebook you can find information about:\n",
    "\n",
    "    - the structure of a document within the database\n",
    "    \n",
    "    - how to load files to mongoDB\n",
    "    \n",
    "    - how to merge collection within mongoDB"
   ]
  },
  {
   "cell_type": "markdown",
   "metadata": {},
   "source": [
    "##### This is what a dataset should look like:"
   ]
  },
  {
   "cell_type": "code",
   "execution_count": null,
   "metadata": {},
   "outputs": [],
   "source": [
    "import pandas as pd\n",
    "pd.set_option('display.max_columns', None)\n",
    "pd.set_option('display.max_rows', None)\n",
    "\n",
    "# load dataset\n",
    "path = './dataset.csv'\n",
    "dataset = pd.read_csv(path)\n",
    "dataset.head(2)"
   ]
  },
  {
   "cell_type": "markdown",
   "metadata": {},
   "source": [
    "- if some of these Items are not in your dataset, you might want to create them and set them to nan, 0 or \"undefined\"\n",
    "\n",
    "- if items are missing, some functionalities in the webapp will not be working \n",
    "\n",
    "- all soundscape items are scaled from 0-4. The sliders in the web app are also sclaed from 0-4 (except the acoustic features)\n",
    "- --> The ranges of the acoustic features are the min and max value of each feature in the dataset. You have to set the slider ranges of the acoustic features manually in the webapp according to your dataset\n",
    "- --> set min max values in frontend/src/components/SliderRanges/sliderSoundscapeComponent.js\n"
   ]
  },
  {
   "cell_type": "code",
   "execution_count": null,
   "metadata": {},
   "outputs": [],
   "source": [
    "# get min max ranges of acoustic features\n",
    "# --> set min max values in frontend/src/components/SliderRanges/sliderSoundscapeComponent.js\n",
    "\n",
    "col = ['LAeq_default', 'N5_default', 'FavgArith_default', 'RAavgArith', 'SavgArith_default', 'R_default', 'T_default']\n",
    "\n",
    "min_max_values = dataset[col].agg({'min', 'max'})\n",
    "min_max_values"
   ]
  },
  {
   "cell_type": "markdown",
   "metadata": {},
   "source": [
    "### MongoDB\n",
    "\n",
    "- you need to have mongoDB installed on your machine or use MongoDB Atlas\n",
    "\n",
    "- to start mongoDB on Mac: brew services start mongodb-community@X.0\n",
    "\n",
    "- you might want to check out mongoDB Compass for a nice GUI overview of your database"
   ]
  },
  {
   "cell_type": "markdown",
   "metadata": {},
   "source": [
    "##### Create Connection"
   ]
  },
  {
   "cell_type": "code",
   "execution_count": null,
   "metadata": {},
   "outputs": [],
   "source": [
    "import pandas as pd\n",
    "from pymongo import MongoClient\n",
    "\n",
    "# Connect to MongoDB (the link will be different if you use mongoDB Atlas)\n",
    "client = MongoClient('mongodb://localhost:27017/')\n",
    "\n",
    "# name of your database (set the name later on in the backend/src/config.py file)\n",
    "db = client['soundscape_search']\n",
    "\n",
    "# create a collection\n",
    "collection = db['dataset_demo']"
   ]
  },
  {
   "cell_type": "markdown",
   "metadata": {},
   "source": [
    "##### Load to DB"
   ]
  },
  {
   "cell_type": "code",
   "execution_count": null,
   "metadata": {},
   "outputs": [],
   "source": [
    "# run this to store all soundscapes to database\n",
    "for index, soundscape in dataset.iterrows():\n",
    "    collection.insert_one(soundscape.to_dict())"
   ]
  },
  {
   "cell_type": "code",
   "execution_count": null,
   "metadata": {},
   "outputs": [],
   "source": [
    "# run this to just store a few\n",
    "\n",
    "collection = db['dataset_2']\n",
    "\n",
    "for i in range(1000, 2000):\n",
    "    a = dataset.iloc[i]\n",
    "    collection.insert_one(a.to_dict())"
   ]
  },
  {
   "cell_type": "markdown",
   "metadata": {},
   "source": [
    "##### Merge different Collections"
   ]
  },
  {
   "cell_type": "code",
   "execution_count": null,
   "metadata": {},
   "outputs": [],
   "source": [
    "collection1 = db['dataset_1']\n",
    "collection2 = db['dataset_2']\n",
    "merged_collection = db['merged_collection']\n",
    "\n",
    "# Retrieve documents from both collections and merge them\n",
    "documents_collection1 = collection1.find()\n",
    "documents_collection2 = collection2.find()\n",
    "\n",
    "for document in documents_collection1:\n",
    "    merged_collection.insert_one(document)\n",
    "\n",
    "for document in documents_collection2:\n",
    "    merged_collection.insert_one(document)"
   ]
  },
  {
   "cell_type": "markdown",
   "metadata": {},
   "source": [
    "##### Store to mongoDB Atlas (cloud database)\n",
    "\n",
    "--> atlas search, might be better for text search?\n",
    "\n",
    "--> you first need to create a search index in atlas (see online documentation)"
   ]
  },
  {
   "cell_type": "code",
   "execution_count": null,
   "metadata": {},
   "outputs": [],
   "source": [
    "import pandas as pd\n",
    "from pymongo import MongoClient\n",
    "\n",
    "client = MongoClient(\"your connection string to mongoDB atlas\")\n",
    "db = client['soundscape_search']\n",
    "collection = db['soundscape_search']\n",
    "\n",
    "# run this to store all soundscapes to database\n",
    "for index, soundscape in dataset.iterrows():\n",
    "    collection.insert_one(soundscape.to_dict())"
   ]
  },
  {
   "cell_type": "code",
   "execution_count": null,
   "metadata": {},
   "outputs": [],
   "source": [
    "# run search query using mongoDB Atlas search\n",
    "def text_search():\n",
    "    result = collection.aggregate([\n",
    "        {   \n",
    "            \"$search\": {\n",
    "                \"index\": \"text_search\",\n",
    "                \"text\": {\n",
    "                    \"query\": \"mann im haus\",\n",
    "                    \"path\": \"FGsource\",\n",
    "                    \"fuzzy\": {}\n",
    "                }\n",
    "            }\n",
    "        }\n",
    "    ])\n",
    "    return list(result)\n",
    "\n",
    "text_search()"
   ]
  }
 ],
 "metadata": {
  "kernelspec": {
   "display_name": ".venv",
   "language": "python",
   "name": "python3"
  },
  "language_info": {
   "codemirror_mode": {
    "name": "ipython",
    "version": 3
   },
   "file_extension": ".py",
   "mimetype": "text/x-python",
   "name": "python",
   "nbconvert_exporter": "python",
   "pygments_lexer": "ipython3",
   "version": "3.11.11"
  },
  "orig_nbformat": 4
 },
 "nbformat": 4,
 "nbformat_minor": 2
}
