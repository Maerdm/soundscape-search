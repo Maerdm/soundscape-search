{
 "cells": [
  {
   "cell_type": "code",
   "execution_count": null,
   "metadata": {},
   "outputs": [],
   "source": [
    "from mosqito.sq_metrics import sharpness_din_tv, loudness_zwtv, roughness_dw, pr_ecma_perseg, tnr_ecma_perseg\n",
    "import numpy as np\n",
    "import soundfile as sf"
   ]
  },
  {
   "cell_type": "markdown",
   "metadata": {},
   "source": [
    "#### Calculate calibration factor"
   ]
  },
  {
   "cell_type": "code",
   "execution_count": 56,
   "metadata": {},
   "outputs": [],
   "source": [
    "P_REF = 20e-6 \n",
    "\n",
    "def sound_pressure(audio_data):\n",
    "    p_rms = np.sqrt(np.mean(audio_data**2))  # RMS berechnen\n",
    "    laeq = 20 * np.log10(p_rms / P_REF)  # Umrechnung in dB SPL\n",
    "    return laeq\n",
    "\n",
    "def calibration_value(audio_data, expected_l_ch1, expected_l_ch2):\n",
    "    raw_laeg_ch1 = sound_pressure(audio_data[:, 0])\n",
    "    raw_laeg_ch2 = sound_pressure(audio_data[:, 1])\n",
    "\n",
    "    cal_ch1 = expected_l_ch1 - raw_laeg_ch1\n",
    "    cal_ch2 = expected_l_ch2 - raw_laeg_ch2\n",
    "\n",
    "    return cal_ch1, cal_ch2\n",
    "\n",
    "def apply_calibration(audio_data, cal_ch1, cal_ch2):\n",
    "    audio_calibrated = np.zeros_like(audio_data)\n",
    "    audio_calibrated[:, 0] = audio_data[:, 0] * (10**(cal_ch1 / 20))  # dB-Wert in linear gain Faktor und multipliziern\n",
    "    audio_calibrated[:, 1] = audio_data[:, 1] * (10**(cal_ch2 / 20)) \n",
    "    return audio_calibrated\n",
    "\n",
    "# Audiosignal laden\n",
    "file_path = \"../dataset/audiofiles/1132730_16.wav\"\n",
    "audio_data, fs = sf.read(file_path)\n",
    "\n",
    "# kallibrieren\n",
    "cal_ch1, cal_ch2 = calibration_value(audio_data, 64.13, 64.57)\n"
   ]
  },
  {
   "cell_type": "markdown",
   "metadata": {},
   "source": [
    "#### Compute acoustic features"
   ]
  },
  {
   "cell_type": "code",
   "execution_count": null,
   "metadata": {},
   "outputs": [],
   "source": [
    "# load dataset\n",
    "import pandas as pd\n",
    "\n",
    "path = '../dataset/datasetSmall.csv'\n",
    "df = pd.read_csv(path)\n",
    "\n",
    "if 'temporal_audio_features' not in df.columns:\n",
    "    df['temporal_audio_features'] = None"
   ]
  },
  {
   "cell_type": "code",
   "execution_count": null,
   "metadata": {},
   "outputs": [
    {
     "name": "stdout",
     "output_type": "stream",
     "text": [
      "[Warning] Signal resampled to 48 kHz fulfill the standard requirements and allow calculation.\n",
      "[Warning] Signal resampled to 48 kHz to allow calculation. To fulfill the standard requirements fs should be >=48 kHz.\n",
      "[Warning] when computing sharpness from time-varying loudness, a transient effect appears on the first points. To cut it, use 'skip='\n",
      "[Warning] Signal resampled to 48 kHz fulfill the standard requirements and allow calculation.\n"
     ]
    },
    {
     "name": "stderr",
     "output_type": "stream",
     "text": [
      "/Users/matthiaserdmann/Documents/SoftwareDev/WebDev/soundscape-search/.venv/lib/python3.11/site-packages/mosqito/sq_metrics/roughness/roughness_ecma/_estimate_fund_mod_rate.py:43: RuntimeWarning: divide by zero encountered in divide\n",
      "  crit = np.abs( (f_p_temp[ic] / (R_i0[ic] * f_p[i0])) - 1)\n"
     ]
    },
    {
     "name": "stdout",
     "output_type": "stream",
     "text": [
      "\n",
      " done processing file  1132730_32.wav\n",
      "\n",
      "\n",
      "[Warning] Signal resampled to 48 kHz fulfill the standard requirements and allow calculation.\n",
      "[Warning] Signal resampled to 48 kHz to allow calculation. To fulfill the standard requirements fs should be >=48 kHz.\n",
      "[Warning] when computing sharpness from time-varying loudness, a transient effect appears on the first points. To cut it, use 'skip='\n",
      "[Warning] Signal resampled to 48 kHz fulfill the standard requirements and allow calculation.\n",
      "\n",
      " done processing file  1134651_42.wav\n",
      "\n",
      "\n",
      "[Warning] Signal resampled to 48 kHz fulfill the standard requirements and allow calculation.\n",
      "[Warning] Signal resampled to 48 kHz to allow calculation. To fulfill the standard requirements fs should be >=48 kHz.\n",
      "[Warning] when computing sharpness from time-varying loudness, a transient effect appears on the first points. To cut it, use 'skip='\n",
      "[Warning] Signal resampled to 48 kHz fulfill the standard requirements and allow calculation.\n",
      "\n",
      " done processing file  1996384_28.wav\n",
      "\n",
      "\n",
      "[Warning] Signal resampled to 48 kHz fulfill the standard requirements and allow calculation.\n",
      "[Warning] Signal resampled to 48 kHz to allow calculation. To fulfill the standard requirements fs should be >=48 kHz.\n",
      "[Warning] when computing sharpness from time-varying loudness, a transient effect appears on the first points. To cut it, use 'skip='\n",
      "[Warning] Signal resampled to 48 kHz fulfill the standard requirements and allow calculation.\n",
      "\n",
      " done processing file  1132730_16.wav\n",
      "\n",
      "\n"
     ]
    }
   ],
   "source": [
    "# compute audio features and save to dataset\n",
    "import os\n",
    "import soundfile as sf\n",
    "\n",
    "def compute_acoustic_features(audio, sr):\n",
    "\n",
    "    _, N_time, _, _, _ = loudness_zwtv(audio, sr) # N_time\n",
    "    S, _ = sharpness_din_tv(audio, fs=sr) # S\n",
    "    _, R_time, _, _, _ = roughness_dw(audio, sr) # R_time\n",
    "    t_pr, _, _, _, _ = pr_ecma_perseg(audio, sr) # t_pr\n",
    "    t_tnr, _, _, _, _ = tnr_ecma_perseg(audio, sr) # t_tnr\n",
    "    \n",
    "    return N_time, S, R_time, t_pr, t_tnr\n",
    "\n",
    "def scale_acoustic_features_to_audio_length(feature_array, audio_length):\n",
    "\n",
    "    original_length = len(feature_array)\n",
    "    block_size = original_length / audio_length\n",
    "    result = np.zeros(audio_length)\n",
    "    \n",
    "    for i in range(audio_length):\n",
    "        start_idx = int(i * block_size)\n",
    "        end_idx = int(min((i + 1) * block_size, original_length))\n",
    "        \n",
    "        # Average the values in this block\n",
    "        if start_idx < end_idx:\n",
    "            result[i] = np.mean(feature_array[start_idx:end_idx])\n",
    "        else:\n",
    "            result[i] = feature_array[start_idx] if start_idx < original_length else 0\n",
    "            \n",
    "    return result\n",
    "\n",
    "folder_path = '../dataset/test_audiofiles'\n",
    "audio_files = [f for f in os.listdir(folder_path) if f.endswith(('.wav'))]\n",
    "    \n",
    "    # Process each audio file\n",
    "for audio_file in audio_files:\n",
    "    file_path = os.path.join(folder_path, audio_file)\n",
    "    \n",
    "    try:\n",
    "        # Load audio\n",
    "        audio_data, sr = sf.read(file_path)\n",
    "\n",
    "        # calibrate audio and convert to mono\n",
    "        calibrated_audio = apply_calibration(audio_data, cal_ch1, cal_ch2)\n",
    "        mono_audio = np.mean(calibrated_audio, axis=1)\n",
    "\n",
    "        # compute acoustic features\n",
    "        loudness, sharpness, roughness, prominence_ratio, tone_to_noise_ratio = compute_acoustic_features(mono_audio, sr)\n",
    "\n",
    "        # averagte features to audio length\n",
    "        time_scaling_factor = 1\n",
    "        length_audio = np.floor(len(mono_audio)/sr) + 1\n",
    "        loudness = scale_acoustic_features_to_audio_length(loudness, int((length_audio*time_scaling_factor)))\n",
    "        sharpness = scale_acoustic_features_to_audio_length(sharpness, int((length_audio*time_scaling_factor)))\n",
    "        roughness = scale_acoustic_features_to_audio_length(roughness, int((length_audio*time_scaling_factor)))\n",
    "\n",
    "        audio_features = {\n",
    "            \"loudness\": loudness.tolist(),\n",
    "            \"sharpness\": sharpness.tolist(),\n",
    "            \"roughness\": roughness.tolist(),\n",
    "            \"prominence_ratio\": prominence_ratio.tolist(),\n",
    "            \"tone_to_noise_ratio\": tone_to_noise_ratio.tolist()\n",
    "        }\n",
    "\n",
    "        # push to dataset\n",
    "        file_name = file_path.split('/')[-1].split('.')[0]\n",
    "        row_idx = df[df['file_name'] == file_name].index.to_list()\n",
    "\n",
    "        if row_idx:\n",
    "            df.at[row_idx[0], 'temporal_audio_features'] = audio_features\n",
    "            print('\\n done processing file ', audio_file)\n",
    "            print('\\n')\n",
    "        else:\n",
    "            print(f\"No row found with file_name: {file_name}\")\n",
    "    except Exception as e:\n",
    "        print(f\"Error processing {audio_file}: {str(e)}\")\n",
    "\n",
    "df.to_csv('../dataset/FinalDatasetWithAcousticTemporalFeatures.csv', sep=';', index=False)"
   ]
  },
  {
   "cell_type": "code",
   "execution_count": null,
   "metadata": {},
   "outputs": [],
   "source": [
    "# store to database\n",
    "from pymongo import MongoClient\n",
    "\n",
    "client = MongoClient('mongodb://localhost:27017/')\n",
    "db = client['soundscape_search']\n",
    "# collection = db['dataset_demo_temporalFeatures']\n",
    "collection = db['test_dataset']\n",
    "\n",
    "for index, soundscape in df.iterrows():\n",
    "    collection.insert_one(soundscape.to_dict())"
   ]
  }
 ],
 "metadata": {
  "kernelspec": {
   "display_name": ".venv",
   "language": "python",
   "name": "python3"
  },
  "language_info": {
   "codemirror_mode": {
    "name": "ipython",
    "version": 3
   },
   "file_extension": ".py",
   "mimetype": "text/x-python",
   "name": "python",
   "nbconvert_exporter": "python",
   "pygments_lexer": "ipython3",
   "version": "3.11.11"
  }
 },
 "nbformat": 4,
 "nbformat_minor": 2
}
