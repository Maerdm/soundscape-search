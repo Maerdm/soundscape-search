{
 "cells": [
  {
   "cell_type": "markdown",
   "metadata": {},
   "source": [
    "### Database\n",
    "\n",
    "- in this notebook you can find information about:\n",
    "\n",
    "    - the structure of a document within the database\n",
    "    \n",
    "    - how to load files to mongoDB\n",
    "    \n",
    "    - how to merge collection within mongoDB"
   ]
  },
  {
   "cell_type": "markdown",
   "metadata": {},
   "source": [
    "##### This is what a dataset should look like:"
   ]
  },
  {
   "cell_type": "code",
   "execution_count": 17,
   "metadata": {},
   "outputs": [
    {
     "data": {
      "text/html": [
       "<div>\n",
       "<style scoped>\n",
       "    .dataframe tbody tr th:only-of-type {\n",
       "        vertical-align: middle;\n",
       "    }\n",
       "\n",
       "    .dataframe tbody tr th {\n",
       "        vertical-align: top;\n",
       "    }\n",
       "\n",
       "    .dataframe thead th {\n",
       "        text-align: right;\n",
       "    }\n",
       "</style>\n",
       "<table border=\"1\" class=\"dataframe\">\n",
       "  <thead>\n",
       "    <tr style=\"text-align: right;\">\n",
       "      <th></th>\n",
       "      <th>file_name</th>\n",
       "      <th>suffix</th>\n",
       "      <th>duration_s</th>\n",
       "      <th>pleasant</th>\n",
       "      <th>vibrant</th>\n",
       "      <th>eventful</th>\n",
       "      <th>chaotic</th>\n",
       "      <th>annoying</th>\n",
       "      <th>monotonous</th>\n",
       "      <th>uneventful</th>\n",
       "      <th>calm</th>\n",
       "      <th>ISO_Pleasantness</th>\n",
       "      <th>ISO_Eventfulness</th>\n",
       "      <th>SC_Nature</th>\n",
       "      <th>SC_Human</th>\n",
       "      <th>SC_Household</th>\n",
       "      <th>SC_Installation</th>\n",
       "      <th>SC_Signals</th>\n",
       "      <th>SC_Traffic</th>\n",
       "      <th>SC_Speech</th>\n",
       "      <th>SC_Music</th>\n",
       "      <th>Activity</th>\n",
       "      <th>Location8</th>\n",
       "      <th>FGsource</th>\n",
       "      <th>LAeq_default</th>\n",
       "      <th>N5_default</th>\n",
       "      <th>FavgArith_default</th>\n",
       "      <th>RAavgArith</th>\n",
       "      <th>SavgArith_default</th>\n",
       "      <th>R_default</th>\n",
       "      <th>T_default</th>\n",
       "    </tr>\n",
       "  </thead>\n",
       "  <tbody>\n",
       "    <tr>\n",
       "      <th>0</th>\n",
       "      <td>1132730_16</td>\n",
       "      <td>.wav</td>\n",
       "      <td>15.0</td>\n",
       "      <td>1</td>\n",
       "      <td>3</td>\n",
       "      <td>3</td>\n",
       "      <td>3</td>\n",
       "      <td>3</td>\n",
       "      <td>3</td>\n",
       "      <td>2</td>\n",
       "      <td>0</td>\n",
       "      <td>1.146447</td>\n",
       "      <td>2.646447</td>\n",
       "      <td>0.0</td>\n",
       "      <td>0.0</td>\n",
       "      <td>4.0</td>\n",
       "      <td>0.0</td>\n",
       "      <td>0.0</td>\n",
       "      <td>0.0</td>\n",
       "      <td>0.0</td>\n",
       "      <td>0.0</td>\n",
       "      <td>1_Cooking_housework_workout</td>\n",
       "      <td>3_Bathroom</td>\n",
       "      <td>Wäschetrockner</td>\n",
       "      <td>56.00</td>\n",
       "      <td>11.30</td>\n",
       "      <td>0.0188</td>\n",
       "      <td>7.39</td>\n",
       "      <td>1.06</td>\n",
       "      <td>0.1960</td>\n",
       "      <td>0.4650</td>\n",
       "    </tr>\n",
       "    <tr>\n",
       "      <th>1</th>\n",
       "      <td>1132730_32</td>\n",
       "      <td>.wav</td>\n",
       "      <td>15.0</td>\n",
       "      <td>1</td>\n",
       "      <td>1</td>\n",
       "      <td>2</td>\n",
       "      <td>3</td>\n",
       "      <td>3</td>\n",
       "      <td>2</td>\n",
       "      <td>0</td>\n",
       "      <td>1</td>\n",
       "      <td>1.146447</td>\n",
       "      <td>2.560660</td>\n",
       "      <td>0.0</td>\n",
       "      <td>0.0</td>\n",
       "      <td>3.6</td>\n",
       "      <td>0.0</td>\n",
       "      <td>0.0</td>\n",
       "      <td>0.0</td>\n",
       "      <td>0.0</td>\n",
       "      <td>0.0</td>\n",
       "      <td>4_Sleeping_waking_up_relaxing</td>\n",
       "      <td>1_LivingRoom</td>\n",
       "      <td>Heizlüfter 2 Stück</td>\n",
       "      <td>40.12</td>\n",
       "      <td>3.51</td>\n",
       "      <td>0.0084</td>\n",
       "      <td>2.62</td>\n",
       "      <td>1.14</td>\n",
       "      <td>0.0624</td>\n",
       "      <td>0.0401</td>\n",
       "    </tr>\n",
       "  </tbody>\n",
       "</table>\n",
       "</div>"
      ],
      "text/plain": [
       "    file_name suffix  duration_s  pleasant  vibrant  eventful  chaotic  \\\n",
       "0  1132730_16   .wav        15.0         1        3         3        3   \n",
       "1  1132730_32   .wav        15.0         1        1         2        3   \n",
       "\n",
       "   annoying  monotonous  uneventful  calm  ISO_Pleasantness  ISO_Eventfulness  \\\n",
       "0         3           3           2     0          1.146447          2.646447   \n",
       "1         3           2           0     1          1.146447          2.560660   \n",
       "\n",
       "   SC_Nature  SC_Human  SC_Household  SC_Installation  SC_Signals  SC_Traffic  \\\n",
       "0        0.0       0.0           4.0              0.0         0.0         0.0   \n",
       "1        0.0       0.0           3.6              0.0         0.0         0.0   \n",
       "\n",
       "   SC_Speech  SC_Music                       Activity     Location8  \\\n",
       "0        0.0       0.0    1_Cooking_housework_workout    3_Bathroom   \n",
       "1        0.0       0.0  4_Sleeping_waking_up_relaxing  1_LivingRoom   \n",
       "\n",
       "             FGsource  LAeq_default  N5_default  FavgArith_default  \\\n",
       "0      Wäschetrockner         56.00       11.30             0.0188   \n",
       "1  Heizlüfter 2 Stück         40.12        3.51             0.0084   \n",
       "\n",
       "   RAavgArith  SavgArith_default  R_default  T_default  \n",
       "0        7.39               1.06     0.1960     0.4650  \n",
       "1        2.62               1.14     0.0624     0.0401  "
      ]
     },
     "execution_count": 17,
     "metadata": {},
     "output_type": "execute_result"
    }
   ],
   "source": [
    "import pandas as pd\n",
    "pd.set_option('display.max_columns', None)\n",
    "pd.set_option('display.max_rows', None)\n",
    "\n",
    "# load dataset\n",
    "path = './dataset.csv'\n",
    "dataset = pd.read_csv(path)\n",
    "dataset.head(2)"
   ]
  },
  {
   "cell_type": "markdown",
   "metadata": {},
   "source": [
    "- if some of these Items are not in your dataset, you might want to create them and set them to nan, 0 or \"undefined\"\n",
    "\n",
    "- if items are missing, some functionalities in the webapp will not be working \n",
    "\n",
    "- all soundscape items are scaled from 0-4. The sliders in the web app are also sclaed from 0-4 (except the acoustic features)\n",
    "- --> The ranges of the acoustic features are the min and max value of each feature in the dataset. You have to set the slider ranges of the acoustic features manually in the webapp according to your dataset\n",
    "- --> set min max values in frontend/src/components/SliderRanges/sliderSoundscapeComponent.js\n"
   ]
  },
  {
   "cell_type": "code",
   "execution_count": null,
   "metadata": {},
   "outputs": [],
   "source": [
    "# get min max ranges of acoustic features\n",
    "# --> set min max values in frontend/src/components/SliderRanges/sliderSoundscapeComponent.js\n",
    "\n",
    "col = ['LAeq_default', 'N5_default', 'FavgArith_default', 'RAavgArith', 'SavgArith_default', 'R_default', 'T_default']\n",
    "\n",
    "min_max_values = dataset[col].agg({'min', 'max'})\n",
    "min_max_values"
   ]
  },
  {
   "cell_type": "markdown",
   "metadata": {},
   "source": [
    "### MongoDB\n",
    "\n",
    "- you need to have mongoDB installed on your machine or use MongoDB Atlas\n",
    "\n",
    "- to start mongoDB on Mac: brew services start mongodb-community@6.0\n",
    "\n",
    "- you might want to check out mongoDB Compass for a nice GUI overview of your database"
   ]
  },
  {
   "cell_type": "markdown",
   "metadata": {},
   "source": [
    "##### Create Connection"
   ]
  },
  {
   "cell_type": "code",
   "execution_count": 19,
   "metadata": {},
   "outputs": [],
   "source": [
    "import pandas as pd\n",
    "from pymongo import MongoClient\n",
    "\n",
    "# Connect to MongoDB (the link will be different if you use mongoDB Atlas)\n",
    "client = MongoClient('mongodb://localhost:27017/')\n",
    "\n",
    "# name of your database (set the name later on in the backend/src/config.py file)\n",
    "db = client['soundscape_search']\n",
    "\n",
    "# create a collection\n",
    "collection = db['dataset_demo']"
   ]
  },
  {
   "cell_type": "markdown",
   "metadata": {},
   "source": [
    "##### Load to DB"
   ]
  },
  {
   "cell_type": "code",
   "execution_count": 20,
   "metadata": {},
   "outputs": [],
   "source": [
    "# run this to store all soundscapes to database\n",
    "for index, soundscape in dataset.iterrows():\n",
    "    collection.insert_one(soundscape.to_dict())"
   ]
  },
  {
   "cell_type": "code",
   "execution_count": 6,
   "metadata": {},
   "outputs": [],
   "source": [
    "# run this to just store a few\n",
    "\n",
    "collection = db['dataset_2']\n",
    "\n",
    "for i in range(1000, 2000):\n",
    "    a = dataset.iloc[i]\n",
    "    collection.insert_one(a.to_dict())"
   ]
  },
  {
   "cell_type": "markdown",
   "metadata": {},
   "source": [
    "##### Merge different Collections"
   ]
  },
  {
   "cell_type": "code",
   "execution_count": 7,
   "metadata": {},
   "outputs": [],
   "source": [
    "collection1 = db['dataset_1']\n",
    "collection2 = db['dataset_2']\n",
    "merged_collection = db['merged_collection']\n",
    "\n",
    "# Retrieve documents from both collections and merge them\n",
    "documents_collection1 = collection1.find()\n",
    "documents_collection2 = collection2.find()\n",
    "\n",
    "for document in documents_collection1:\n",
    "    merged_collection.insert_one(document)\n",
    "\n",
    "for document in documents_collection2:\n",
    "    merged_collection.insert_one(document)"
   ]
  },
  {
   "cell_type": "markdown",
   "metadata": {},
   "source": [
    "##### Store to mongoDB Atlas (cloud database)\n",
    "\n",
    "--> atlas search, might be better for text search?\n",
    "\n",
    "--> you first need to create a search index in atlas (see online documentation)"
   ]
  },
  {
   "cell_type": "code",
   "execution_count": 2,
   "metadata": {},
   "outputs": [],
   "source": [
    "import pandas as pd\n",
    "from pymongo import MongoClient\n",
    "\n",
    "client = MongoClient(\"your connection string to mongoDB atlas\")\n",
    "db = client['soundscape_search']\n",
    "collection = db['soundscape_search']\n",
    "\n",
    "# run this to store all soundscapes to database\n",
    "for index, soundscape in dataset.iterrows():\n",
    "    collection.insert_one(soundscape.to_dict())"
   ]
  },
  {
   "cell_type": "code",
   "execution_count": null,
   "metadata": {},
   "outputs": [],
   "source": [
    "# run search query using mongoDB Atlas search\n",
    "def text_search():\n",
    "    result = collection.aggregate([\n",
    "        {   \n",
    "            \"$search\": {\n",
    "                \"index\": \"text_search\",\n",
    "                \"text\": {\n",
    "                    \"query\": \"mann im haus\",\n",
    "                    \"path\": \"FGsource\",\n",
    "                    \"fuzzy\": {}\n",
    "                }\n",
    "            }\n",
    "        }\n",
    "    ])\n",
    "    return list(result)\n",
    "\n",
    "text_search()"
   ]
  }
 ],
 "metadata": {
  "kernelspec": {
   "display_name": ".venv",
   "language": "python",
   "name": "python3"
  },
  "language_info": {
   "codemirror_mode": {
    "name": "ipython",
    "version": 3
   },
   "file_extension": ".py",
   "mimetype": "text/x-python",
   "name": "python",
   "nbconvert_exporter": "python",
   "pygments_lexer": "ipython3",
   "version": "3.9.16"
  },
  "orig_nbformat": 4
 },
 "nbformat": 4,
 "nbformat_minor": 2
}
