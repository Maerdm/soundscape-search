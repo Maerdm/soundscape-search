{
 "cells": [
  {
   "cell_type": "code",
   "execution_count": 1,
   "metadata": {},
   "outputs": [],
   "source": [
    "from mosqito.sq_metrics import sharpness_din_tv, sharpness_din_st, loudness_zwst, loudness_zwtv, loudness_zwst_perseg, roughness_dw\n",
    "import numpy as np\n",
    "import librosa"
   ]
  },
  {
   "cell_type": "code",
   "execution_count": 3,
   "metadata": {},
   "outputs": [
    {
     "name": "stdout",
     "output_type": "stream",
     "text": [
      "[Warning] when computing sharpness from time-varying loudness, a transient effect appears on the first points. To cut it, use 'skip='\n",
      "mean tv 0.9011854878868819\n",
      "mean st 1.2148389275084213\n"
     ]
    }
   ],
   "source": [
    "# sharpness\n",
    "audio, sr = librosa.load(\"audiofiles/9754782_99.wav\", sr=48000, mono=True)\n",
    "S = sharpness_din_tv(audio, fs=sr)\n",
    "print(\"mean tv\", np.mean(S[0]))\n",
    "\n",
    "S = sharpness_din_st(audio, fs=sr)\n",
    "print(\"mean st\", S)\n"
   ]
  },
  {
   "cell_type": "code",
   "execution_count": 4,
   "metadata": {},
   "outputs": [
    {
     "name": "stdout",
     "output_type": "stream",
     "text": [
      "[1.17880957e-05 2.64983302e-03 1.44187883e-02 ... 1.75706365e-01\n",
      " 1.76607919e-01 1.70444734e-01]\n",
      "[[0.00000000e+00 0.00000000e+00 0.00000000e+00 ... 4.01167669e-11\n",
      "  3.51091240e-11 3.07265686e-11]\n",
      " [0.00000000e+00 0.00000000e+00 0.00000000e+00 ... 4.01167669e-11\n",
      "  3.51091240e-11 3.07265686e-11]\n",
      " [0.00000000e+00 0.00000000e+00 0.00000000e+00 ... 4.01167669e-11\n",
      "  3.51091240e-11 3.07265686e-11]\n",
      " ...\n",
      " [0.00000000e+00 0.00000000e+00 0.00000000e+00 ... 0.00000000e+00\n",
      "  0.00000000e+00 0.00000000e+00]\n",
      " [0.00000000e+00 0.00000000e+00 0.00000000e+00 ... 0.00000000e+00\n",
      "  0.00000000e+00 0.00000000e+00]\n",
      " [0.00000000e+00 0.00000000e+00 0.00000000e+00 ... 0.00000000e+00\n",
      "  0.00000000e+00 0.00000000e+00]]\n"
     ]
    }
   ],
   "source": [
    "# loudness\n",
    "N, N_spec, bark_axis, time_axis = loudness_zwtv(audio, fs=sr)\n",
    "print(N)\n",
    "print(N_spec)"
   ]
  },
  {
   "cell_type": "code",
   "execution_count": 5,
   "metadata": {},
   "outputs": [
    {
     "data": {
      "text/plain": [
       "0.00020921524453494487"
      ]
     },
     "execution_count": 5,
     "metadata": {},
     "output_type": "execute_result"
    }
   ],
   "source": [
    "# roughness\n",
    "R, R_specific, bark, time = roughness_dw(audio, fs=sr, overlap=0)\n",
    "np.mean(R_specific)"
   ]
  }
 ],
 "metadata": {
  "kernelspec": {
   "display_name": ".venv",
   "language": "python",
   "name": "python3"
  },
  "language_info": {
   "codemirror_mode": {
    "name": "ipython",
    "version": 3
   },
   "file_extension": ".py",
   "mimetype": "text/x-python",
   "name": "python",
   "nbconvert_exporter": "python",
   "pygments_lexer": "ipython3",
   "version": "3.11.11"
  }
 },
 "nbformat": 4,
 "nbformat_minor": 2
}
