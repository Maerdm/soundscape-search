{
 "cells": [
  {
   "cell_type": "markdown",
   "metadata": {},
   "source": [
    "### The code below is used to clean the original dataset"
   ]
  },
  {
   "cell_type": "code",
   "execution_count": null,
   "metadata": {},
   "outputs": [],
   "source": [
    "import pandas as pd\n",
    "import numpy as np\n",
    "pd.set_option('display.max_columns', None)\n",
    "pd.set_option('display.max_rows', None)\n",
    "\n",
    "# load dataset\n",
    "path = '/Users/maed/Documents/Projects/SSClaVis/Dataset/FinalDataset/02 Dataset.csv'\n",
    "df = pd.read_csv(path, sep=';')\n",
    "\n",
    "# create unique audio id\n",
    "dataset = df.copy()\n",
    "audio_id = dataset['ID'].astype(str) + '_' + dataset['Trigger_counter'].astype(str)\n",
    "dataset.insert(2, 'file_name', audio_id)\n",
    "dataset.head()"
   ]
  },
  {
   "cell_type": "code",
   "execution_count": null,
   "metadata": {},
   "outputs": [],
   "source": [
    "# keep only specific columns\n",
    "to_keep = ['file_name', 'Soundscape_eventfulness', 'Soundscape_pleasantness', 'BGpleasant', 'BGchaotic', 'BGvibrant', 'BGuneventful', 'BGcalm', 'BGannoying', \n",
    "           'BGeventful', 'BGmonotonous', 'SC_Nature', 'SC_Human', 'SC_Household', 'SC_Installation', 'SC_Signals', 'SC_Traffic', 'SC_Speech', \n",
    "           'SC_Music', 'FGsource', 'Activity',  'Location8']\n",
    "\n",
    "dataset = dataset[to_keep]\n",
    "dataset.head()"
   ]
  },
  {
   "cell_type": "code",
   "execution_count": null,
   "metadata": {},
   "outputs": [],
   "source": [
    "# rename columns\n",
    "to_rename = {'Soundscape_eventfulness':'ISO_Eventfulness', 'Soundscape_pleasantness': 'ISO_Pleasantness', \n",
    "             'BGpleasant':'pleasant', 'BGchaotic':'chaotic', 'BGvibrant':'vibrant', 'BGuneventful':'uneventful', \n",
    "             'BGcalm':'calm', 'BGannoying':'annoying', 'BGeventful':'eventful', 'BGmonotonous':'monotonous'}\n",
    "\n",
    "dataset.rename(columns=to_rename, inplace=True)\n",
    "dataset.head()"
   ]
  },
  {
   "cell_type": "code",
   "execution_count": null,
   "metadata": {},
   "outputs": [],
   "source": [
    "# add duration in seconds and suffix:\n",
    "dataset.insert(1, 'duration_s', 15)\n",
    "dataset.insert(2, 'suffix', '.wav')\n",
    "dataset.head()"
   ]
  },
  {
   "cell_type": "code",
   "execution_count": null,
   "metadata": {},
   "outputs": [],
   "source": [
    "# create new value ranges of soundscape items\n",
    "def range_zero_to_four(x):\n",
    "    return (x / (4 + np.sqrt(32)) + 1) * 2\n",
    "\n",
    "def sc_range(x):\n",
    "    x = round(x * 0.4, 1)\n",
    "\n",
    "    return x.astype(float)\n",
    "\n",
    "dataset['ISO_Eventfulness'] = dataset['ISO_Eventfulness'].apply(range_zero_to_four)\n",
    "dataset['ISO_Pleasantness'] = dataset['ISO_Pleasantness'].apply(range_zero_to_four)\n",
    "\n",
    "col = ['SC_Nature', 'SC_Human', 'SC_Household', 'SC_Installation', 'SC_Signals', 'SC_Traffic', 'SC_Speech', 'SC_Music']\n",
    "dataset[col] = dataset[col].apply(sc_range)\n",
    "\n",
    "dataset.head()"
   ]
  },
  {
   "cell_type": "code",
   "execution_count": null,
   "metadata": {},
   "outputs": [],
   "source": [
    "# clean acoustic dataset\n",
    "path = '/Users/maed/Documents/Projects/SSClaVis/Dataset/FinalDataset/AcousticFeatures_SingleValues.csv'\n",
    "acoustic_dataset = pd.read_csv(path, sep=';')\n",
    "\n",
    "# items to keep from acoustic dataset\n",
    "columns_to_select = ['Key', 'Channel', 'LAeq_default', 'N5_default', 'FavgArith_default', 'RAavgArith', 'SavgArith_default', 'R_default', 'T_default']\n",
    "acoustic_dataset = acoustic_dataset[columns_to_select]\n",
    "\n",
    "acoustic_dataset_max_values = acoustic_dataset.groupby('Key').max().reset_index()\n",
    "acoustic_dataset_max_values = acoustic_dataset_max_values.drop(columns=['Channel'])\n",
    "acoustic_dataset_max_values.head()\n",
    "\n",
    "# calculate mean of both audio channels\n",
    "#acoustic_dataset = acoustic_dataset.groupby('Key').mean().reset_index()\n",
    "# acoustic_dataset = acoustic_dataset.drop(columns=['Channel'])\n",
    "# acoustic_dataset.head()"
   ]
  },
  {
   "cell_type": "code",
   "execution_count": null,
   "metadata": {},
   "outputs": [],
   "source": [
    "# merge dataset and acoustic_dataset\n",
    "final_dataset = dataset.merge(acoustic_dataset_max_values, left_on='file_name', right_on='Key', how='left')\n",
    "final_dataset = final_dataset.drop(columns=['Key'])\n",
    "final_dataset.head()\n"
   ]
  },
  {
   "cell_type": "code",
   "execution_count": null,
   "metadata": {},
   "outputs": [],
   "source": [
    "# get min max ranges of acoustic features\n",
    "# --> used for Sliders in WebApp\n",
    "\n",
    "col = ['LAeq_default', 'N5_default', 'FavgArith_default', 'RAavgArith', 'SavgArith_default', 'R_default', 'T_default']\n",
    "\n",
    "min_max_values = final_dataset[col].agg({'min', 'max'})\n",
    "min_max_values"
   ]
  },
  {
   "cell_type": "code",
   "execution_count": 110,
   "metadata": {},
   "outputs": [],
   "source": [
    "# store final dataset\n",
    "final_dataset.to_csv('/Users/maed/Documents/Projects/SSClaVis/Dataset/FinalDataset/FinalDataset.csv', sep=';', index=False)"
   ]
  }
 ],
 "metadata": {
  "kernelspec": {
   "display_name": ".venv",
   "language": "python",
   "name": "python3"
  },
  "language_info": {
   "codemirror_mode": {
    "name": "ipython",
    "version": 3
   },
   "file_extension": ".py",
   "mimetype": "text/x-python",
   "name": "python",
   "nbconvert_exporter": "python",
   "pygments_lexer": "ipython3",
   "version": "3.9.16"
  },
  "orig_nbformat": 4
 },
 "nbformat": 4,
 "nbformat_minor": 2
}
